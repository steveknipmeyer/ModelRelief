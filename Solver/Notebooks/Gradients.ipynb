{
 "cells": [
  {
   "cell_type": "code",
   "execution_count": 9,
   "metadata": {
    "collapsed": true
   },
   "outputs": [],
   "source": [
    "import numpy as np"
   ]
  },
  {
   "cell_type": "code",
   "execution_count": 10,
   "metadata": {
    "collapsed": true
   },
   "outputs": [],
   "source": [
    "i = [[0,  0,  0, 0],\n",
    "     [0,  1,  2, 0],\n",
    "     [0,  4,  9, 0],\n",
    "     [0, 14, 15, 0],\n",
    "     [0, 30, 50, 0],\n",
    "     [0,  0,  0, 0]]\n",
    "I = np.array(i)"
   ]
  },
  {
   "cell_type": "code",
   "execution_count": 11,
   "metadata": {},
   "outputs": [
    {
     "output_type": "stream",
     "name": "stdout",
     "text": [
      "[[0, 0, 0, 0], [0, 1, 2, 0], [0, 4, 9, 0], [0, 14, 15, 0], [0, 30, 50, 0], [0, 0, 0, 0]]\n[[ 0  0  0  0]\n [ 0  1  2  0]\n [ 0  4  9  0]\n [ 0 14 15  0]\n [ 0 30 50  0]\n [ 0  0  0  0]]\n"
     ]
    }
   ],
   "source": [
    "print(i)\n",
    "print(I)"
   ]
  },
  {
   "cell_type": "code",
   "execution_count": 12,
   "metadata": {
    "collapsed": true
   },
   "outputs": [],
   "source": [
    "g = np.gradient(I)"
   ]
  },
  {
   "cell_type": "code",
   "execution_count": 13,
   "metadata": {},
   "outputs": [],
   "source": [
    "#        The gradients are returned in Numpy axis order (row, column, ...) therefore:\n",
    "#            results[0] = Y gradient\n",
    "#            results[1] = X gradient\n",
    "gradient_y = g[0]\n",
    "gradient_x = g[1]"
   ]
  },
  {
   "cell_type": "code",
   "execution_count": 14,
   "metadata": {},
   "outputs": [
    {
     "output_type": "stream",
     "name": "stdout",
     "text": [
      "[[  0.    0.    0.    0. ]\n [  1.    1.   -0.5  -2. ]\n [  4.    4.5  -2.   -9. ]\n [ 14.    7.5  -7.  -15. ]\n [ 30.   25.  -15.  -50. ]\n [  0.    0.    0.    0. ]]\n"
     ]
    }
   ],
   "source": [
    "print (gradient_x)"
   ]
  },
  {
   "cell_type": "code",
   "execution_count": 15,
   "metadata": {},
   "outputs": [
    {
     "output_type": "stream",
     "name": "stdout",
     "text": [
      "[[  0.    1.    2.    0. ]\n [  0.    2.    4.5   0. ]\n [  0.    6.5   6.5   0. ]\n [  0.   13.   20.5   0. ]\n [  0.   -7.   -7.5   0. ]\n [  0.  -30.  -50.    0. ]]\n"
     ]
    }
   ],
   "source": [
    "print(gradient_y)"
   ]
  },
  {
   "cell_type": "code",
   "execution_count": 8,
   "metadata": {},
   "outputs": [
    {
     "output_type": "execute_result",
     "data": {
      "text/plain": [
       "7.5"
      ]
     },
     "metadata": {},
     "execution_count": 8
    }
   ],
   "source": [
    "gradient_x[3,1]"
   ]
  },
  {
   "cell_type": "code",
   "execution_count": null,
   "metadata": {
    "collapsed": true
   },
   "outputs": [],
   "source": []
  }
 ],
 "metadata": {
  "kernelspec": {
   "display_name": "Python 3",
   "language": "python",
   "name": "python3"
  },
  "language_info": {
   "codemirror_mode": {
    "name": "ipython",
    "version": 3
   },
   "file_extension": ".py",
   "mimetype": "text/x-python",
   "name": "python",
   "nbconvert_exporter": "python",
   "pygments_lexer": "ipython3",
   "version": "3.8.5-final"
  }
 },
 "nbformat": 4,
 "nbformat_minor": 2
}