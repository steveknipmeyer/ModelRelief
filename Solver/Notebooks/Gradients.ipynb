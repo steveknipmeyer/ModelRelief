{
 "cells": [
  {
   "cell_type": "code",
   "execution_count": 64,
   "metadata": {
    "collapsed": true
   },
   "outputs": [],
   "source": [
    "import numpy as np"
   ]
  },
  {
   "cell_type": "code",
   "execution_count": 65,
   "metadata": {
    "collapsed": true
   },
   "outputs": [],
   "source": [
    "i = [[0,  0,  0, 0],\n",
    "     [0,  1,  2, 0],\n",
    "     [0,  4,  9, 0],\n",
    "     [0, 14, 15, 0],\n",
    "     [0, 30, 50, 0],\n",
    "     [0,  0,  0, 0]]\n",
    "I = np.array(i)"
   ]
  },
  {
   "cell_type": "code",
   "execution_count": 66,
   "metadata": {},
   "outputs": [
    {
     "name": "stdout",
     "output_type": "stream",
     "text": [
      "[[0, 0, 0, 0], [0, 1, 2, 0], [0, 4, 9, 0], [0, 14, 15, 0], [0, 30, 50, 0], [0, 0, 0, 0]]\n",
      "[[ 0  0  0  0]\n",
      " [ 0  1  2  0]\n",
      " [ 0  4  9  0]\n",
      " [ 0 14 15  0]\n",
      " [ 0 30 50  0]\n",
      " [ 0  0  0  0]]\n"
     ]
    }
   ],
   "source": [
    "print(i)\n",
    "print(I)"
   ]
  },
  {
   "cell_type": "code",
   "execution_count": 67,
   "metadata": {
    "collapsed": true
   },
   "outputs": [],
   "source": [
    "g = np.gradient(I)"
   ]
  },
  {
   "cell_type": "code",
   "execution_count": 68,
   "metadata": {},
   "outputs": [],
   "source": [
    "#        The gradients are returned in Numpy axis order (row, column, ...) therefore:\n",
    "#            results[0] = Y gradient\n",
    "#            results[1] = X gradient\n",
    "gradient_y = g[0]\n",
    "gradient_x = g[1]"
   ]
  },
  {
   "cell_type": "code",
   "execution_count": 69,
   "metadata": {},
   "outputs": [
    {
     "name": "stdout",
     "output_type": "stream",
     "text": [
      "[[  0.    0.    0.    0. ]\n",
      " [  1.    1.   -0.5  -2. ]\n",
      " [  4.    4.5  -2.   -9. ]\n",
      " [ 14.    7.5  -7.  -15. ]\n",
      " [ 30.   25.  -15.  -50. ]\n",
      " [  0.    0.    0.    0. ]]\n"
     ]
    }
   ],
   "source": [
    "print (gradient_x)"
   ]
  },
  {
   "cell_type": "code",
   "execution_count": 70,
   "metadata": {},
   "outputs": [
    {
     "name": "stdout",
     "output_type": "stream",
     "text": [
      "[[  0.    1.    2.    0. ]\n",
      " [  0.    2.    4.5   0. ]\n",
      " [  0.    6.5   6.5   0. ]\n",
      " [  0.   13.   20.5   0. ]\n",
      " [  0.   -7.   -7.5   0. ]\n",
      " [  0.  -30.  -50.    0. ]]\n"
     ]
    }
   ],
   "source": [
    "print(gradient_y)"
   ]
  },
  {
   "cell_type": "code",
   "execution_count": 72,
   "metadata": {},
   "outputs": [
    {
     "data": {
      "text/plain": [
       "7.5"
      ]
     },
     "execution_count": 72,
     "metadata": {},
     "output_type": "execute_result"
    }
   ],
   "source": [
    "gradient_x[3,1]"
   ]
  },
  {
   "cell_type": "code",
   "execution_count": null,
   "metadata": {
    "collapsed": true
   },
   "outputs": [],
   "source": []
  }
 ],
 "metadata": {
  "kernelspec": {
   "display_name": "Python 3",
   "language": "python",
   "name": "python3"
  },
  "language_info": {
   "codemirror_mode": {
    "name": "ipython",
    "version": 3
   },
   "file_extension": ".py",
   "mimetype": "text/x-python",
   "name": "python",
   "nbconvert_exporter": "python",
   "pygments_lexer": "ipython3",
   "version": "3.6.2"
  }
 },
 "nbformat": 4,
 "nbformat_minor": 2
}
