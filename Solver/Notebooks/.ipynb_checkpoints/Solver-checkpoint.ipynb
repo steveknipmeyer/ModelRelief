{
 "cells": [
  {
   "cell_type": "code",
   "execution_count": null,
   "metadata": {
    "code_folding": [
     0
    ]
   },
   "outputs": [],
   "source": [
    "#!/usr/bin/env python\n",
    "#\n",
    "#   Copyright (c) 2017\n",
    "#   All Rights Reserved.\n",
    "#\n",
    "\n",
    "\"\"\"\n",
    "\n",
    ".. module:: Solver\n",
    "   :synopsis: Constructs a Mesh from a DepthBuffer and a MeshTransform.\n",
    "\n",
    ".. moduleauthor:: Steve Knipmeyer <steve@knipmeyer.org>\n",
    "\n",
    "\"\"\"\n",
    "import os.path\n",
    "import matplotlib.pylab as plt\n",
    "\n",
    "\n",
    "def plot_image(image, height=8, **kwargs):\n",
    "    \"\"\"\n",
    "    Helper function to plot an image.\n",
    "    Dimensions are in centimeters.\n",
    "    \"\"\"\n",
    "    y_length = image.shape[0]\n",
    "    x_length = image.shape[1]\n",
    "    aspect_ratio = y_length/x_length\n",
    "    width = aspect_ratio * height\n",
    "    print ('Aspect ratio = {}'.format(aspect_ratio))\n",
    "    print (\"w = {}, h = {}\".format (width, height))\n",
    "\n",
    "    plt.figure(figsize=(width, height))\n",
    "    plt.imshow(image, interpolation=\"none\", **kwargs)\n",
    "    plt.axis('off')\n",
    "\n",
    "\n",
    "def main():\n",
    "    \"\"\"\n",
    "    Main entry point.\n",
    "    \"\"\"\n",
    "    current_directory = os.path.dirname(os.curdir)\n",
    "    file_name = os.path.join(current_directory, \"Lucy.png\")\n",
    "\n",
    "    image = plt.imread(file_name)\n",
    "\n",
    "    print(image.shape)\n",
    "\n",
    "    plot_image(image, 5)\n",
    "\n",
    "    plt.plot([1,2,3,4])\n",
    "    plt.ylabel('some numbers')\n",
    "    plt.show()\n",
    "\n",
    "main()\n",
    "j"
   ]
  },
  {
   "cell_type": "code",
   "execution_count": null,
   "metadata": {
    "code_folding": []
   },
   "outputs": [],
   "source": [
    "import struct\n",
    "\n",
    "def bytes_from_buffer(path, chunksize=8192):\n",
    "    with open(file=path, mode='rb') as file:\n",
    "        while True:\n",
    "            chunk = file.read(chunksize)\n",
    "            if chunk:\n",
    "                for byte in chunk:\n",
    "                    yield byte\n",
    "            else:\n",
    "                break;\n",
    "                \n",
    "file_name = 'Lucy.raw'\n",
    "byte_depths_generator = bytes_from_buffer(file_name)\n",
    "byte_depths = bytes(byte_depths_generator)\n",
    "\n",
    "byte_count = len(byte_depths)\n",
    "float_count = int(byte_count / 4)\n",
    "print (\"The total number of bytes in %s = %d.\" % (file_name, byte_count))\n"
   ]
  },
  {
   "cell_type": "code",
   "execution_count": null,
   "metadata": {},
   "outputs": [],
   "source": [
    "def unpack_floats(byte_depths, floats_per_unpack=1):\n",
    "    float_count = len(byte_depths) / 4\n",
    "    unpack_steps = int(float_count / floats_per_unpack)\n",
    "    \n",
    "    float_list = []    \n",
    "    span = 4 * floats_per_unpack\n",
    "    for value in range(unpack_steps):\n",
    "        lower = value * span\n",
    "        upper = lower + span\n",
    "        unpack_format = '%df' % floats_per_unpack\n",
    "        depth = struct.unpack(unpack_format, byte_depths[lower:upper])\n",
    "        float_list.append(depth)"
   ]
  },
  {
   "cell_type": "code",
   "execution_count": null,
   "metadata": {
    "collapsed": true
   },
   "outputs": [],
   "source": [
    "float_list = unpack_floats (byte_depths, 1)"
   ]
  },
  {
   "cell_type": "code",
   "execution_count": null,
   "metadata": {},
   "outputs": [],
   "source": [
    "float_list = unpack_floats (byte_depths, float_count)\n",
    "def write_buffer(path):\n",
    "    with open(file=path, mode='w') as file:\n",
    "        for depth in float_list:\n",
    "            file.write(str(depth[0]) + '\\n')"
   ]
  },
  {
   "cell_type": "code",
   "execution_count": null,
   "metadata": {},
   "outputs": [],
   "source": [
    "write_buffer('Lucy.float')"
   ]
  }
 ],
 "metadata": {
  "kernelspec": {
   "display_name": "Python 3",
   "language": "python",
   "name": "python3"
  },
  "language_info": {
   "codemirror_mode": {
    "name": "ipython",
    "version": 3
   },
   "file_extension": ".py",
   "mimetype": "text/x-python",
   "name": "python",
   "nbconvert_exporter": "python",
   "pygments_lexer": "ipython3",
   "version": "3.6.2"
  }
 },
 "nbformat": 4,
 "nbformat_minor": 2
}
