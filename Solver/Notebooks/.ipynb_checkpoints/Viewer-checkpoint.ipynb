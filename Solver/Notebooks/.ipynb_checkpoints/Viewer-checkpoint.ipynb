{
 "cells": [
  {
   "cell_type": "code",
   "execution_count": 2,
   "metadata": {
    "collapsed": true
   },
   "outputs": [],
   "source": [
    "def read_floats(path):\n",
    "    \"\"\"\n",
    "        Reads a file into a list of floats.\n",
    "    \"\"\"\n",
    "    with open(file=path, mode='r') as file:\n",
    "        float_list = list(map(float, file))\n",
    "        return float_list\n"
   ]
  },
  {
   "cell_type": "code",
   "execution_count": 8,
   "metadata": {},
   "outputs": [
    {
     "name": "stdout",
     "output_type": "stream",
     "text": [
      "(900, 1349, 3)\n",
      "Aspect ratio = 1.498888888888889\n",
      "w = 3.7472222222222222, h = 2.5\n"
     ]
    },
    {
     "data": {
      "image/png": "[encoded data removed]",
      "text/plain": [
       "<matplotlib.figure.Figure at 0x1b2bda02dd8>"
      ]
     },
     "metadata": {},
     "output_type": "display_data"
    }
   ],
   "source": [
    "#!/usr/bin/env python\n",
    "#   Copyright (c) 2017\n",
    "#   All Rights Reserved.\n",
    "#\n",
    "\n",
    "\"\"\"\n",
    "\n",
    ".. module:: Viewer\n",
    "   :synopsis: Displays a raw DepthBuffer.\n",
    "\n",
    ".. moduleauthor:: Steve Knipmeyer <steve@knipmeyer.org>\n",
    "\n",
    "\"\"\"\n",
    "import os.path\n",
    "import matplotlib.pylab as plt\n",
    "\n",
    "\n",
    "def plot_image(image, height=8, **kwargs):\n",
    "    \"\"\"\n",
    "    Helper function to plot an image.\n",
    "    Dimensions are in inches.\n",
    "    \"\"\"\n",
    "    \n",
    "    y_length = image.shape[0]\n",
    "    x_length = image.shape[1]\n",
    "    aspect_ratio = x_length / y_length\n",
    "    width = aspect_ratio * height\n",
    "    print ('Aspect ratio = {}'.format(aspect_ratio))\n",
    "    print (\"w = {}, h = {}\".format (width, height))\n",
    "\n",
    "    plt.figure(figsize=(width, height))\n",
    "    plt.imshow(image, interpolation=\"none\", **kwargs)\n",
    "\n",
    "def image_from_file():\n",
    "    \"\"\"\n",
    "    Load an image from an image file.\n",
    "    \"\"\"\n",
    "    current_directory = os.path.dirname(os.curdir)\n",
    "    file_name = os.path.join(current_directory, \"Lucy.png\")\n",
    "    image = plt.imread(file_name)\n",
    "    return image\n",
    "\n",
    "def image_from_floats():\n",
    "    \"\"\"\n",
    "    Load an image from a file of single precision floats.\n",
    "    \"\"\"\n",
    "    file_name = os.path.abspath(r\"D:\\Users\\Steve Knipmeyer\\Documents\\GitHub\\ModelRelief\\Solver\\Test\\Working\\lucy.raw.floats.1.000000\")\n",
    "    image = read_floats(floats)\n",
    "    return image\n",
    "    \n",
    "def main():\n",
    "    \"\"\"\n",
    "    Main entry point.\n",
    "    \"\"\"\n",
    "    image = image_from_file()\n",
    "\n",
    "    print(image.shape)\n",
    "    plot_image(image, 2.5)\n",
    "    plt.show()\n",
    "\n",
    "main()"
   ]
  },
  {
   "cell_type": "code",
   "execution_count": null,
   "metadata": {
    "collapsed": true
   },
   "outputs": [],
   "source": []
  }
 ],
 "metadata": {
  "kernelspec": {
   "display_name": "Python 3",
   "language": "python",
   "name": "python3"
  },
  "language_info": {
   "codemirror_mode": {
    "name": "ipython",
    "version": 3
   },
   "file_extension": ".py",
   "mimetype": "text/x-python",
   "name": "python",
   "nbconvert_exporter": "python",
   "pygments_lexer": "ipython3",
   "version": "3.6.2"
  }
 },
 "nbformat": 4,
 "nbformat_minor": 2
}
