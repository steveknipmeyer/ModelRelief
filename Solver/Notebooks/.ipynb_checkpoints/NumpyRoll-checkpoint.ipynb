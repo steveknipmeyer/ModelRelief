{
 "cells": [
  {
   "cell_type": "code",
   "execution_count": 113,
   "metadata": {
    "collapsed": true
   },
   "outputs": [],
   "source": [
    "import numpy as np\n",
    "from enum import Enum\n",
    "from typing import List"
   ]
  },
  {
   "cell_type": "code",
   "execution_count": 114,
   "metadata": {},
   "outputs": [
    {
     "data": {
      "text/plain": [
       "array([[1, 2, 3],\n",
       "       [4, 5, 6],\n",
       "       [7, 8, 9]])"
      ]
     },
     "execution_count": 114,
     "metadata": {},
     "output_type": "execute_result"
    }
   ],
   "source": [
    "a = np.array([[1, 2, 3], [4, 5, 6], [7, 8, 9]])\n",
    "a"
   ]
  },
  {
   "cell_type": "code",
   "execution_count": 115,
   "metadata": {},
   "outputs": [
    {
     "data": {
      "text/plain": [
       "array([[3, 1, 2],\n",
       "       [6, 4, 5],\n",
       "       [9, 7, 8]])"
      ]
     },
     "execution_count": 115,
     "metadata": {},
     "output_type": "execute_result"
    }
   ],
   "source": [
    "forward_roll = np.roll(a, 1, -1)\n",
    "forward_roll"
   ]
  },
  {
   "cell_type": "code",
   "execution_count": 116,
   "metadata": {},
   "outputs": [
    {
     "name": "stdout",
     "output_type": "stream",
     "text": [
      "[1 4 7]\n"
     ]
    }
   ],
   "source": [
    "first_column = a[:,0]\n",
    "print(first_column)"
   ]
  },
  {
   "cell_type": "code",
   "execution_count": 117,
   "metadata": {},
   "outputs": [
    {
     "name": "stdout",
     "output_type": "stream",
     "text": [
      "[[1 2 3]\n",
      " [4 5 6]\n",
      " [7 8 9]]\n",
      "\n",
      "[[1 1 2]\n",
      " [4 4 5]\n",
      " [7 7 8]]\n"
     ]
    }
   ],
   "source": [
    "forward_roll[:,0] = first_column\n",
    "print(a)\n",
    "print()\n",
    "print(forward_roll)"
   ]
  },
  {
   "cell_type": "code",
   "execution_count": 118,
   "metadata": {},
   "outputs": [
    {
     "data": {
      "text/plain": [
       "array([[0, 1, 1],\n",
       "       [0, 1, 1],\n",
       "       [0, 1, 1]])"
      ]
     },
     "execution_count": 118,
     "metadata": {},
     "output_type": "execute_result"
    }
   ],
   "source": [
    "a - forward_roll"
   ]
  },
  {
   "cell_type": "code",
   "execution_count": 119,
   "metadata": {},
   "outputs": [],
   "source": [
    "class FiniteDifference(Enum):\n",
    "    \"\"\"\n",
    "    A class representing the types of finite differences.\n",
    "    \"\"\"\n",
    "    Forward = 1,\n",
    "    Backward = 2"
   ]
  },
  {
   "cell_type": "code",
   "execution_count": 120,
   "metadata": {
    "collapsed": true
   },
   "outputs": [],
   "source": [
    "    def difference_x(a: np.ndarray, direction:FiniteDifference) -> np.ndarray:\n",
    "        \"\"\"\n",
    "        Calculates the finite dfferences along the X axis.\n",
    "        Parameters\n",
    "        ----------\n",
    "        a\n",
    "            The array from which to calculate the finite differences.\n",
    "        direction\n",
    "            The direction of the finite difference (forward, backward).\n",
    "        Returns\n",
    "        -------\n",
    "        An ndarray containing the finite differences.\n",
    "        \"\"\"\n",
    "        (rows, columns) = a.shape\n",
    "        difference = np.zeros((rows, columns))\n",
    "\n",
    "        if direction == FiniteDifference.Forward:\n",
    "            first_offset  = +1\n",
    "            second_offset =  0\n",
    "        if direction == FiniteDifference.Backward:\n",
    "            first_offset  =  0\n",
    "            second_offset = -1\n",
    "\n",
    "        for row in range (rows):\n",
    "            for column in range(columns):\n",
    "                if (direction == FiniteDifference.Backward) and (column == 0):\n",
    "                    continue\n",
    "                if (direction == FiniteDifference.Forward) and (column == (columns - 1)):\n",
    "                    continue\n",
    "                difference[row, column] = a[row, column + first_offset] - a[row, column + second_offset]\n",
    "\n",
    "        print(\"Array\")\n",
    "        print (a)\n",
    "        print(\"\")\n",
    "\n",
    "        print(\"Loop\")\n",
    "        print (difference)\n",
    "        print(\"\")\n",
    "                \n",
    "        difference_optimized = difference_x_optimized(a, direction)                \n",
    "        print(\"Roll\")\n",
    "        print (difference_optimized)\n",
    "        print(\"\")\n",
    "        \n",
    "        print (f\"Loop == Roll: {np.array_equal(difference, difference_optimized)}\")\n",
    "\n",
    "        return difference\n"
   ]
  },
  {
   "cell_type": "code",
   "execution_count": 121,
   "metadata": {},
   "outputs": [],
   "source": [
    "    def difference_x_optimized(a: np.ndarray, direction:FiniteDifference) -> np.ndarray:\n",
    "        \"\"\"\n",
    "        Calculates the finite dfferences along the X axis.\n",
    "        Parameters\n",
    "        ----------\n",
    "        a\n",
    "            The array from which to calculate the finite differences.\n",
    "        direction\n",
    "            The direction of the finite difference (forward, backward).\n",
    "        Returns\n",
    "        -------\n",
    "        An ndarray containing the finite differences.\n",
    "        \"\"\"\n",
    "        (_, columns) = a.shape\n",
    "        if direction == FiniteDifference.Forward:\n",
    "            shift = -1\n",
    "            duplicated_column = columns -1 \n",
    "        if direction == FiniteDifference.Backward:\n",
    "            shift = +1\n",
    "            duplicated_column = 0\n",
    "\n",
    "        a_prime = np.roll(a, shift, 1)\n",
    "        a_prime[:, duplicated_column] = a[:, duplicated_column]\n",
    "        \n",
    "        print(\"Array Prime\")\n",
    "        print (a_prime)\n",
    "        print(\"\")\n",
    "\n",
    "        f_plus_delta = a_prime if direction == FiniteDifference.Forward else a\n",
    "        f = a if direction == FiniteDifference.Forward else a_prime\n",
    "        \n",
    "        difference = f_plus_delta - f\n",
    "        return difference"
   ]
  },
  {
   "cell_type": "code",
   "execution_count": 122,
   "metadata": {},
   "outputs": [
    {
     "name": "stdout",
     "output_type": "stream",
     "text": [
      "Array\n",
      "[[1 2 3]\n",
      " [4 5 6]\n",
      " [7 8 9]]\n",
      "\n",
      "Loop\n",
      "[[1. 1. 0.]\n",
      " [1. 1. 0.]\n",
      " [1. 1. 0.]]\n",
      "\n",
      "Array Prime\n",
      "[[2 3 3]\n",
      " [5 6 6]\n",
      " [8 9 9]]\n",
      "\n",
      "Roll\n",
      "[[1 1 0]\n",
      " [1 1 0]\n",
      " [1 1 0]]\n",
      "\n",
      "Loop == Roll: True\n"
     ]
    }
   ],
   "source": [
    "difference = difference_x(a, direction=FiniteDifference.Forward)"
   ]
  },
  {
   "cell_type": "code",
   "execution_count": 123,
   "metadata": {},
   "outputs": [
    {
     "name": "stdout",
     "output_type": "stream",
     "text": [
      "Array\n",
      "[[1 2 3]\n",
      " [4 5 6]\n",
      " [7 8 9]]\n",
      "\n",
      "Loop\n",
      "[[0. 1. 1.]\n",
      " [0. 1. 1.]\n",
      " [0. 1. 1.]]\n",
      "\n",
      "Array Prime\n",
      "[[1 1 2]\n",
      " [4 4 5]\n",
      " [7 7 8]]\n",
      "\n",
      "Roll\n",
      "[[0 1 1]\n",
      " [0 1 1]\n",
      " [0 1 1]]\n",
      "\n",
      "Loop == Roll: True\n"
     ]
    }
   ],
   "source": [
    "difference = difference_x(a, direction=FiniteDifference.Backward)"
   ]
  },
  {
   "cell_type": "code",
   "execution_count": null,
   "metadata": {
    "collapsed": true
   },
   "outputs": [],
   "source": []
  },
  {
   "cell_type": "code",
   "execution_count": null,
   "metadata": {
    "collapsed": true
   },
   "outputs": [],
   "source": []
  }
 ],
 "metadata": {
  "kernelspec": {
   "display_name": "Python 3",
   "language": "python",
   "name": "python3"
  },
  "language_info": {
   "codemirror_mode": {
    "name": "ipython",
    "version": 3
   },
   "file_extension": ".py",
   "mimetype": "text/x-python",
   "name": "python",
   "nbconvert_exporter": "python",
   "pygments_lexer": "ipython3",
   "version": "3.6.2"
  }
 },
 "nbformat": 4,
 "nbformat_minor": 2
}
