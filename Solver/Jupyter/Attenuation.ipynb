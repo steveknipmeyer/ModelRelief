{
 "cells": [
  {
   "cell_type": "code",
   "execution_count": 30,
   "metadata": {
    "collapsed": true
   },
   "outputs": [],
   "source": [
    "import numpy as np\n",
    "\n",
    "from attenuation import AttenuationParameters, Attenuation\n",
    "from logger import Logger\n",
    "from mathtools import MathTools\n",
    "from services import Services\n",
    "from tools import Colors"
   ]
  },
  {
   "cell_type": "code",
   "execution_count": 31,
   "metadata": {},
   "outputs": [],
   "source": [
    "# i = [[.1,  .2,  .3, .4],\n",
    "#      [.5,  .6,  .7, .8],\n",
    "#      [1.2, 1.3, 1.4, 1.5],\n",
    "#      [1.6,  1.7,  1.8, 1.9]]\n",
    "\n",
    "# zeros\n",
    "# i = [[0,  0,  0, 0],\n",
    "#      [.5,  .6,  .7, .8],\n",
    "#      [1.2, 1.3, 1.4, 1.5],\n",
    "#      [0,  0,  0, 0]]\n",
    "\n",
    "# zeros and negatives\n",
    "i = [[0,  0,  0, 0],\n",
    "     [-.5,  -.6,  .7, .8],\n",
    "     [1.2, 1.3, -1.4, -1.5],\n",
    "     [0,  0,  0, 0]]\n",
    "\n",
    "I = np.array(i)"
   ]
  },
  {
   "cell_type": "code",
   "execution_count": 32,
   "metadata": {},
   "outputs": [
    {
     "output_type": "stream",
     "name": "stdout",
     "text": [
      "\u001b[36;1m\nGradient\u001b[0m\n\u001b[36;1m  mean =   1.0\u001b[0m\n\u001b[36;1m  median = 1.0\u001b[0m\n\u001b[36;1m  min =    0.5\u001b[0m\n\u001b[36;1m  max =    1.5\u001b[0m\n\u001b[35;1m\nAttenuation Weights\u001b[0m\n\u001b[35;1m  mean =   0.42\u001b[0m\n\u001b[35;1m  median = 0.4\u001b[0m\n\u001b[35;1m  min =    0.34\u001b[0m\n\u001b[35;1m  max =    0.53\u001b[0m\n"
     ]
    }
   ],
   "source": [
    "\n",
    "factor = 10\n",
    "decay = 0.6\n",
    "parameters = AttenuationParameters(factor, decay)\n",
    "\n",
    "services = Services('', '', Logger(), '')\n",
    "attenuation = Attenuation(services)\n",
    "attenuated_array = attenuation.apply(I, parameters)"
   ]
  },
  {
   "cell_type": "code",
   "execution_count": 33,
   "metadata": {},
   "outputs": [
    {
     "output_type": "stream",
     "name": "stdout",
     "text": [
      "\u001b[36;1m\nOriginal\u001b[0m\n    0.00    0.00    0.00    0.00\n   -0.50   -0.60    0.70    0.80\n    1.20    1.30   -1.40   -1.50\n    0.00    0.00    0.00    0.00\n\u001b[36;1m\nAttenuated\u001b[0m\n    0.00    0.00    0.00    0.00\n   -0.26   -0.29    0.32    0.35\n    0.44    0.47   -0.49   -0.51\n    0.00    0.00    0.00    0.00\n\u001b[36;1m\nDifference = Attenuated - Original\u001b[0m\n    0.00    0.00    0.00    0.00\n    0.24    0.31   -0.38   -0.45\n   -0.76   -0.83    0.91    0.99\n    0.00    0.00    0.00    0.00\n\u001b[36;1m\nPercentage\u001b[0m\n     nan     nan     nan     nan\n  -47.47  -51.16  -54.08  -56.47\n  -62.99  -64.16  -65.20  -66.15\n     nan     nan     nan     nan\n"
     ]
    }
   ],
   "source": [
    "\n",
    "MathTools.print_array(\"Original\", I)\n",
    "MathTools.print_array(\"Attenuated\", attenuated_array)\n",
    "\n",
    "difference = attenuated_array - I\n",
    "MathTools.print_array(\"Difference = Attenuated - Original\", difference)\n",
    "MathTools.print_array(\"Percentage\", (difference / I) * 100)"
   ]
  }
 ],
 "metadata": {
  "kernelspec": {
   "display_name": "Python 3",
   "language": "python",
   "name": "python3"
  },
  "language_info": {
   "codemirror_mode": {
    "name": "ipython",
    "version": 3
   },
   "file_extension": ".py",
   "mimetype": "text/x-python",
   "name": "python",
   "nbconvert_exporter": "python",
   "pygments_lexer": "ipython3",
   "version": "3.8.5-final"
  }
 },
 "nbformat": 4,
 "nbformat_minor": 2
}