{
 "cells": [
  {
   "cell_type": "code",
   "execution_count": 5,
   "metadata": {
    "collapsed": true
   },
   "outputs": [],
   "source": [
    "import numpy as np\n",
    "\n",
    "from attenuation import AttenuationParameters, Attenuation\n",
    "from logger import Logger\n",
    "from mathtools import MathTools\n",
    "from services import Services\n",
    "from tools import Colors"
   ]
  },
  {
   "cell_type": "code",
   "execution_count": 6,
   "metadata": {},
   "outputs": [],
   "source": [
    "# zeros and negatives\n",
    "i = [[  0.0,  0.0,  0.0,  0.0],\n",
    "     [ -0.5, -0.6,  0.7,  0.8],\n",
    "     [  1.2,  1.3, -1.4, -1.5],\n",
    "     [  0.0,  0.0,  0.0,  0.0]]\n",
    "\n",
    "# i = [[  0.1, 1.0,  2.0,  3.0,  4.0]]\n",
    "\n",
    "I = np.array(i)"
   ]
  },
  {
   "cell_type": "code",
   "execution_count": 7,
   "metadata": {},
   "outputs": [],
   "source": [
    "\n",
    "factor = 10\n",
    "decay = 0.6\n",
    "parameters = AttenuationParameters(True, factor, decay)\n",
    "\n",
    "services = Services('', '', Logger(), '')\n",
    "attenuation = Attenuation(services)\n",
    "attenuated_array = attenuation.apply(I, parameters)"
   ]
  },
  {
   "cell_type": "code",
   "execution_count": 8,
   "metadata": {},
   "outputs": [
    {
     "output_type": "stream",
     "name": "stdout",
     "text": [
      "\u001b[36;1m\n",
      "Original\u001b[0m\n",
      "\u001b[37;1m\u001b[0m\n",
      "    0.00    0.00    0.00    0.00\n",
      "   -0.50   -0.60    0.70    0.80\n",
      "    1.20    1.30   -1.40   -1.50\n",
      "    0.00    0.00    0.00    0.00\n",
      "\u001b[0m\u001b[0m\n",
      "\u001b[36;1m\n",
      "Attenuated\u001b[0m\n",
      "\u001b[37;1m\u001b[0m\n",
      "    0.00    0.00    0.00    0.00\n",
      "   -0.26   -0.29    0.32    0.35\n",
      "    0.44    0.47   -0.49   -0.51\n",
      "    0.00    0.00    0.00    0.00\n",
      "\u001b[0m\u001b[0m\n",
      "\u001b[36;1m\n",
      "Difference = Attenuated - Original\u001b[0m\n",
      "\u001b[37;1m\u001b[0m\n",
      "    0.00    0.00    0.00    0.00\n",
      "    0.24    0.31   -0.38   -0.45\n",
      "   -0.76   -0.83    0.91    0.99\n",
      "    0.00    0.00    0.00    0.00\n",
      "\u001b[0m\u001b[0m\n",
      "\u001b[36;1m\n",
      "Percentage\u001b[0m\n",
      "\u001b[37;1m\u001b[0m\n",
      "     nan     nan     nan     nan\n",
      "  -47.47  -51.16  -54.08  -56.47\n",
      "  -62.99  -64.16  -65.20  -66.15\n",
      "     nan     nan     nan     nan\n",
      "\u001b[0m\u001b[0m\n",
      "<ipython-input-8-639b32be95bf>:6: RuntimeWarning: invalid value encountered in true_divide\n",
      "  MathTools.print_array(\"Percentage\", (difference / I) * 100)\n"
     ]
    }
   ],
   "source": [
    "\n",
    "MathTools.print_array(\"Original\", I)\n",
    "MathTools.print_array(\"Attenuated\", attenuated_array)\n",
    "\n",
    "difference = attenuated_array - I\n",
    "MathTools.print_array(\"Difference = Attenuated - Original\", difference)\n",
    "MathTools.print_array(\"Percentage\", (difference / I) * 100)"
   ]
  }
 ],
 "metadata": {
  "kernelspec": {
   "name": "python3",
   "display_name": "Python 3.8.5 64-bit ('devenv': venv)"
  },
  "language_info": {
   "codemirror_mode": {
    "name": "ipython",
    "version": 3
   },
   "file_extension": ".py",
   "mimetype": "text/x-python",
   "name": "python",
   "nbconvert_exporter": "python",
   "pygments_lexer": "ipython3",
   "version": "3.8.5"
  },
  "interpreter": {
   "hash": "7393b5a36eff039deccf326269dee400763bba59e89085955d4c9097e97036c8"
  }
 },
 "nbformat": 4,
 "nbformat_minor": 2
}