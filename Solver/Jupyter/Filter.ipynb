{
 "cells": [
  {
   "cell_type": "code",
   "execution_count": 6,
   "metadata": {},
   "outputs": [],
   "source": [
    "#https://stackoverflow.com/questions/23208232/image-filtering-with-scikit-image"
   ]
  },
  {
   "cell_type": "code",
   "execution_count": 7,
   "metadata": {},
   "outputs": [
    {
     "output_type": "stream",
     "name": "stdout",
     "text": [
      "Available matplotlib backends: ['tk', 'gtk', 'gtk3', 'wx', 'qt4', 'qt5', 'qt', 'osx', 'nbagg', 'notebook', 'agg', 'svg', 'pdf', 'ps', 'inline', 'ipympl', 'widget']\n"
     ]
    }
   ],
   "source": [
    " %matplotlib --list"
   ]
  },
  {
   "cell_type": "code",
   "execution_count": 8,
   "metadata": {},
   "outputs": [],
   "source": [
    "# QT support\n",
    "import matplotlib\n",
    "#%matplotlib inline\n",
    "matplotlib.use('Qt5Agg')\n",
    "%matplotlib qt5"
   ]
  },
  {
   "cell_type": "code",
   "execution_count": 9,
   "metadata": {},
   "outputs": [],
   "source": [
    "from skimage import data\n",
    "from skimage import filters\n",
    "from skimage import img_as_float\n",
    "import matplotlib.pyplot as plt\n",
    "\n",
    "unsharp_strength = 1.0\n",
    "blur_size = 8  # Standard deviation in pixels.\n",
    "\n",
    "# Convert to float so that negatives don't cause problems\n",
    "image = img_as_float(data.camera())\n",
    "blurred = filters.gaussian(image, blur_size)\n",
    "highpass = image - unsharp_strength * blurred\n",
    "sharp = image + highpass\n",
    "\n",
    "matplotlib.pyplot.close(\"all\")\n",
    "fig, axes = plt.subplots(ncols=4)\n",
    "axes[0].imshow(image, vmin=0, vmax=1,cmap='gray')\n",
    "axes[1].imshow(blurred, vmin=0, vmax=1,cmap='gray')\n",
    "axes[2].imshow(highpass, vmin=0, vmax=1,cmap='gray')\n",
    "axes[3].imshow(sharp, vmin=0, vmax=1,cmap='gray')\n",
    "plt.show()\n"
   ]
  },
  {
   "cell_type": "code",
   "execution_count": 10,
   "metadata": {},
   "outputs": [
    {
     "output_type": "execute_result",
     "data": {
      "text/plain": [
       "<function matplotlib.pyplot.imshow(X, cmap=None, norm=None, aspect=None, interpolation=None, alpha=None, vmin=None, vmax=None, origin=None, extent=None, *, filternorm=True, filterrad=4.0, resample=None, url=None, data=None, **kwargs)>"
      ]
     },
     "metadata": {},
     "execution_count": 10
    }
   ],
   "source": [
    "import numpy as np\n",
    "check = np.zeros((9, 9))\n",
    "check[::2, 1::2] = 1\n",
    "check[1::2, ::2] = 1\n",
    "import matplotlib.pyplot as plt\n",
    "plt.imshow(check, cmap='gray', interpolation='nearest') \n",
    "plt.imshow"
   ]
  },
  {
   "cell_type": "code",
   "execution_count": null,
   "metadata": {},
   "outputs": [],
   "source": []
  }
 ],
 "metadata": {
  "kernelspec": {
   "name": "python3",
   "display_name": "Python 3.8.5 64-bit ('devenv': venv)"
  },
  "language_info": {
   "codemirror_mode": {
    "name": "ipython",
    "version": 3
   },
   "file_extension": ".py",
   "mimetype": "text/x-python",
   "name": "python",
   "nbconvert_exporter": "python",
   "pygments_lexer": "ipython3",
   "version": "3.8.5"
  },
  "interpreter": {
   "hash": "7393b5a36eff039deccf326269dee400763bba59e89085955d4c9097e97036c8"
  }
 },
 "nbformat": 4,
 "nbformat_minor": 2
}