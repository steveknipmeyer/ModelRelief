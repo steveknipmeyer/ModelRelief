{
 "cells": [
  {
   "cell_type": "code",
   "execution_count": 1,
   "metadata": {},
   "outputs": [
    {
     "output_type": "execute_result",
     "data": {
      "text/plain": [
       "array([[ 4,  6,  8,  9, 11],\n",
       "       [10, 12, 14, 15, 17],\n",
       "       [20, 22, 24, 25, 27],\n",
       "       [29, 31, 33, 34, 36],\n",
       "       [35, 37, 39, 40, 42]])"
      ]
     },
     "metadata": {},
     "execution_count": 1
    }
   ],
   "source": [
    "import numpy as np\n",
    "from scipy.ndimage import gaussian_filter\n",
    " \n",
    "a = np.arange(50, step=2).reshape((5,5))\n",
    "gaussian_filter(a, sigma=1)\n",
    " \n"
   ]
  },
  {
   "cell_type": "code",
   "execution_count": 2,
   "metadata": {},
   "outputs": [],
   "source": [
    "# QT support\n",
    "import matplotlib\n",
    "#%matplotlib inline\n",
    "matplotlib.use('Qt5Agg')\n",
    "%matplotlib qt5"
   ]
  },
  {
   "cell_type": "code",
   "execution_count": 3,
   "metadata": {},
   "outputs": [],
   "source": [
    "from scipy import misc\n",
    "import matplotlib.pyplot as plt\n",
    "fig = plt.figure()\n",
    "plt.gray()  # show the filtered result in grayscale\n",
    "ax1 = fig.add_subplot(121)  # left side\n",
    "ax2 = fig.add_subplot(122)  # right side\n",
    "ascent = misc.ascent()\n",
    "result = gaussian_filter(ascent, sigma=5)\n",
    "ax1.imshow(ascent)\n",
    "ax2.imshow(result)\n",
    "plt.show()"
   ]
  },
  {
   "cell_type": "code",
   "execution_count": null,
   "metadata": {},
   "outputs": [],
   "source": []
  }
 ],
 "metadata": {
  "kernelspec": {
   "name": "python3",
   "display_name": "Python 3.8.5 64-bit ('devenv': venv)"
  },
  "language_info": {
   "codemirror_mode": {
    "name": "ipython",
    "version": 3
   },
   "file_extension": ".py",
   "mimetype": "text/x-python",
   "name": "python",
   "nbconvert_exporter": "python",
   "pygments_lexer": "ipython3",
   "version": "3.8.5"
  },
  "interpreter": {
   "hash": "7393b5a36eff039deccf326269dee400763bba59e89085955d4c9097e97036c8"
  }
 },
 "nbformat": 4,
 "nbformat_minor": 2
}