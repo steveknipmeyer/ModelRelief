{
 "cells": [
  {
   "cell_type": "code",
   "execution_count": 1,
   "metadata": {
    "collapsed": true
   },
   "outputs": [],
   "source": [
    "import numpy as np"
   ]
  },
  {
   "cell_type": "code",
   "execution_count": 2,
   "metadata": {
    "collapsed": true
   },
   "outputs": [],
   "source": [
    "i = [[0,  0,  0, 0],\n",
    "     [0,  1,  2, 0],\n",
    "     [0,  4,  9, 0],\n",
    "     [0, 14, 15, 0],\n",
    "     [0, 30, 50, 0],\n",
    "     [0,  0,  0, 0]]\n",
    "I = np.array(i)"
   ]
  },
  {
   "cell_type": "code",
   "execution_count": 3,
   "metadata": {},
   "outputs": [
    {
     "output_type": "stream",
     "name": "stdout",
     "text": [
      "[[0, 0, 0, 0], [0, 1, 2, 0], [0, 4, 9, 0], [0, 14, 15, 0], [0, 30, 50, 0], [0, 0, 0, 0]]\n[[ 0  0  0  0]\n [ 0  1  2  0]\n [ 0  4  9  0]\n [ 0 14 15  0]\n [ 0 30 50  0]\n [ 0  0  0  0]]\n"
     ]
    }
   ],
   "source": [
    "print(i)\n",
    "print(I)"
   ]
  },
  {
   "cell_type": "code",
   "execution_count": 4,
   "metadata": {
    "collapsed": true
   },
   "outputs": [],
   "source": [
    "g = np.gradient(I)"
   ]
  },
  {
   "cell_type": "code",
   "execution_count": 5,
   "metadata": {},
   "outputs": [],
   "source": [
    "#        The gradients are returned in Numpy axis order (row, column, ...) therefore:\n",
    "#            results[0] = Y gradient\n",
    "#            results[1] = X gradient\n",
    "gradient_y = g[0]\n",
    "gradient_x = g[1]"
   ]
  },
  {
   "cell_type": "code",
   "execution_count": 6,
   "metadata": {},
   "outputs": [
    {
     "output_type": "stream",
     "name": "stdout",
     "text": [
      "[[  0.    0.    0.    0. ]\n [  1.    1.   -0.5  -2. ]\n [  4.    4.5  -2.   -9. ]\n [ 14.    7.5  -7.  -15. ]\n [ 30.   25.  -15.  -50. ]\n [  0.    0.    0.    0. ]]\n"
     ]
    }
   ],
   "source": [
    "print (gradient_x)"
   ]
  },
  {
   "cell_type": "code",
   "execution_count": 7,
   "metadata": {},
   "outputs": [
    {
     "output_type": "stream",
     "name": "stdout",
     "text": [
      "[[  0.    1.    2.    0. ]\n [  0.    2.    4.5   0. ]\n [  0.    6.5   6.5   0. ]\n [  0.   13.   20.5   0. ]\n [  0.   -7.   -7.5   0. ]\n [  0.  -30.  -50.    0. ]]\n"
     ]
    }
   ],
   "source": [
    "print(gradient_y)"
   ]
  },
  {
   "cell_type": "code",
   "execution_count": 8,
   "metadata": {},
   "outputs": [
    {
     "output_type": "execute_result",
     "data": {
      "text/plain": [
       "7.5"
      ]
     },
     "metadata": {},
     "execution_count": 8
    }
   ],
   "source": [
    "gradient_x[3,1]"
   ]
  },
  {
   "cell_type": "code",
   "execution_count": null,
   "metadata": {
    "collapsed": true
   },
   "outputs": [],
   "source": []
  }
 ],
 "metadata": {
  "kernelspec": {
   "name": "python3",
   "display_name": "Python 3.8.5 64-bit ('devenv': venv)"
  },
  "language_info": {
   "codemirror_mode": {
    "name": "ipython",
    "version": 3
   },
   "file_extension": ".py",
   "mimetype": "text/x-python",
   "name": "python",
   "nbconvert_exporter": "python",
   "pygments_lexer": "ipython3",
   "version": "3.8.5"
  },
  "interpreter": {
   "hash": "7393b5a36eff039deccf326269dee400763bba59e89085955d4c9097e97036c8"
  }
 },
 "nbformat": 4,
 "nbformat_minor": 2
}