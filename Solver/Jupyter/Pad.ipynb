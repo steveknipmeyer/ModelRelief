{
 "cells": [
  {
   "cell_type": "code",
   "execution_count": 1,
   "metadata": {},
   "outputs": [],
   "source": [
    "import numpy as np\n",
    "from enum import Enum\n",
    "from typing import List"
   ]
  },
  {
   "cell_type": "code",
   "execution_count": 2,
   "metadata": {},
   "outputs": [
    {
     "output_type": "execute_result",
     "data": {
      "text/plain": [
       "array([[ 1,  2,  3],\n",
       "       [ 4,  5,  6],\n",
       "       [ 7,  8,  9],\n",
       "       [10, 11, 12]])"
      ]
     },
     "metadata": {},
     "execution_count": 2
    }
   ],
   "source": [
    "a = np.array([[1, 2, 3], [4, 5, 6], [7, 8, 9], [10, 11, 12]])\n",
    "a"
   ]
  },
  {
   "cell_type": "code",
   "execution_count": 3,
   "metadata": {},
   "outputs": [],
   "source": [
    "pad = 2\n",
    "width = 3\n",
    "height = 4"
   ]
  },
  {
   "cell_type": "code",
   "execution_count": 4,
   "metadata": {},
   "outputs": [],
   "source": [
    "b = np.zeros((height + (2 * pad), width + (2 * pad)))"
   ]
  },
  {
   "cell_type": "code",
   "execution_count": 5,
   "metadata": {},
   "outputs": [
    {
     "output_type": "execute_result",
     "data": {
      "text/plain": [
       "array([[0., 0., 0., 0., 0., 0., 0.],\n",
       "       [0., 0., 0., 0., 0., 0., 0.],\n",
       "       [0., 0., 0., 0., 0., 0., 0.],\n",
       "       [0., 0., 0., 0., 0., 0., 0.],\n",
       "       [0., 0., 0., 0., 0., 0., 0.],\n",
       "       [0., 0., 0., 0., 0., 0., 0.],\n",
       "       [0., 0., 0., 0., 0., 0., 0.],\n",
       "       [0., 0., 0., 0., 0., 0., 0.]])"
      ]
     },
     "metadata": {},
     "execution_count": 5
    }
   ],
   "source": [
    "b"
   ]
  },
  {
   "cell_type": "code",
   "execution_count": 6,
   "metadata": {},
   "outputs": [
    {
     "output_type": "execute_result",
     "data": {
      "text/plain": [
       "array([[ 0.,  0.,  0.,  0.,  0.,  0.,  0.],\n",
       "       [ 0.,  0.,  0.,  0.,  0.,  0.,  0.],\n",
       "       [ 0.,  0.,  1.,  2.,  3.,  0.,  0.],\n",
       "       [ 0.,  0.,  4.,  5.,  6.,  0.,  0.],\n",
       "       [ 0.,  0.,  7.,  8.,  9.,  0.,  0.],\n",
       "       [ 0.,  0., 10., 11., 12.,  0.,  0.],\n",
       "       [ 0.,  0.,  0.,  0.,  0.,  0.,  0.],\n",
       "       [ 0.,  0.,  0.,  0.,  0.,  0.,  0.]])"
      ]
     },
     "metadata": {},
     "execution_count": 6
    }
   ],
   "source": [
    "b[pad:(pad + height), pad:(pad + width)] = a\n",
    "b"
   ]
  },
  {
   "cell_type": "code",
   "execution_count": 7,
   "metadata": {},
   "outputs": [
    {
     "output_type": "execute_result",
     "data": {
      "text/plain": [
       "array([[ 0.,  0.,  1.,  2.,  3.,  0.,  0.],\n",
       "       [ 0.,  0.,  1.,  2.,  3.,  0.,  0.],\n",
       "       [ 1.,  1.,  1.,  2.,  3.,  3.,  3.],\n",
       "       [ 4.,  4.,  4.,  5.,  6.,  6.,  6.],\n",
       "       [ 7.,  7.,  7.,  8.,  9.,  9.,  9.],\n",
       "       [10., 10., 10., 11., 12., 12., 12.],\n",
       "       [ 0.,  0., 10., 11., 12.,  0.,  0.],\n",
       "       [ 0.,  0., 10., 11., 12.,  0.,  0.]])"
      ]
     },
     "metadata": {},
     "execution_count": 7
    }
   ],
   "source": [
    "b[0:pad, pad:pad + width] = a[0,:]\n",
    "b[pad + height:, pad:pad + width] = a[height - 1,:]\n",
    "\n",
    "b[pad:pad+height, 0:pad] = a[:,0:1]\n",
    "b[pad:pad+height, pad + width:] = a[:,width - 1:width]\n",
    "b"
   ]
  },
  {
   "cell_type": "code",
   "execution_count": 8,
   "metadata": {},
   "outputs": [
    {
     "output_type": "execute_result",
     "data": {
      "text/plain": [
       "array([[ 0.,  0.,  1.,  2.,  3.,  0.,  0.],\n",
       "       [ 0.,  0.,  1.,  2.,  3.,  0.,  0.],\n",
       "       [ 1.,  1.,  1.,  2.,  3.,  3.,  3.],\n",
       "       [ 4.,  4.,  4.,  5.,  6.,  6.,  6.],\n",
       "       [ 7.,  7.,  7.,  8.,  9.,  9.,  9.],\n",
       "       [10., 10., 10., 11., 12., 12., 12.],\n",
       "       [ 0.,  0., 10., 11., 12.,  0.,  0.],\n",
       "       [ 0.,  0., 10., 11., 12.,  0.,  0.]])"
      ]
     },
     "metadata": {},
     "execution_count": 8
    }
   ],
   "source": [
    "import numpy as np\n",
    "image = np.array([[1, 2, 3], [4, 5, 6], [7, 8, 9], [10, 11, 12]])\n",
    "\n",
    "height = image.shape[0]\n",
    "width = image.shape[1]\n",
    "\n",
    "pad = 2\n",
    "padded_image = np.zeros((height + (2 * pad), width + (2 * pad)))\n",
    "padded_image[pad:(height + pad), pad:(width + pad), ] = image\n",
    "\n",
    "# create margins; replicate edges of source ('constant' mode)\n",
    "padded_image[0:pad, pad:pad + width] = image[0,:]\n",
    "padded_image[pad + height:, pad:pad + width] = image[height - 1,:]\n",
    "\n",
    "padded_image[pad:pad+height, 0:pad] = image[:,0:1]\n",
    "padded_image[pad:pad+height, pad + width:] = image[:,width - 1:width]\n",
    "\n",
    "# extract original\n",
    "padded_result = padded_image\n",
    "result = np.zeros((width, height))\n",
    "result = padded_result[pad:(height + pad), pad:(width + pad)]\n",
    "\n",
    "image\n",
    "padded_image\n",
    "#padded_result\n",
    "#result"
   ]
  },
  {
   "cell_type": "code",
   "execution_count": null,
   "metadata": {},
   "outputs": [],
   "source": []
  }
 ],
 "metadata": {
  "kernelspec": {
   "name": "python3",
   "display_name": "Python 3.8.5 64-bit ('devenv': venv)"
  },
  "language_info": {
   "codemirror_mode": {
    "name": "ipython",
    "version": 3
   },
   "file_extension": ".py",
   "mimetype": "text/x-python",
   "name": "python",
   "nbconvert_exporter": "python",
   "pygments_lexer": "ipython3",
   "version": "3.8.5"
  },
  "interpreter": {
   "hash": "7393b5a36eff039deccf326269dee400763bba59e89085955d4c9097e97036c8"
  }
 },
 "nbformat": 4,
 "nbformat_minor": 2
}